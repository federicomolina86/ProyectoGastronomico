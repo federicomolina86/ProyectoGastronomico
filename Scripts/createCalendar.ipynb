{
 "cells": [
  {
   "cell_type": "code",
   "execution_count": 2,
   "metadata": {},
   "outputs": [
    {
     "name": "stdout",
     "output_type": "stream",
     "text": [
      "Tabla de calendario generada y exportada a 'calendar.csv'\n"
     ]
    }
   ],
   "source": [
    "import pandas as pd\n",
    "import numpy as np\n",
    "\n",
    "# Definir rango de fechas\n",
    "start_date = '2020-01-01'\n",
    "end_date = '2050-12-31'\n",
    "date_range = pd.date_range(start=start_date, end=end_date, freq='D')\n",
    "\n",
    "# Crear DataFrame con rango de fechas\n",
    "calendar_df = pd.DataFrame(date_range, columns=['fecha'])\n",
    "\n",
    "# Expandir DataFrame para cada hora del día\n",
    "calendar_df = calendar_df.loc[calendar_df.index.repeat(24)].reset_index(drop=True)\n",
    "calendar_df['hora'] = np.tile(range(24), len(date_range))\n",
    "\n",
    "# Añadir columnas adicionales\n",
    "calendar_df['id_calendario'] = calendar_df.index + 1\n",
    "calendar_df['dia'] = calendar_df['fecha'].dt.day\n",
    "calendar_df['mes'] = calendar_df['fecha'].dt.month\n",
    "calendar_df['año'] = calendar_df['fecha'].dt.year\n",
    "calendar_df['dia_semana'] = calendar_df['fecha'].dt.dayofweek + 1  # Monday=0, Sunday=6 -> Monday=1, Sunday=7\n",
    "calendar_df['nombre_mes'] = calendar_df['fecha'].dt.month_name()\n",
    "calendar_df['trimestre'] = calendar_df['fecha'].dt.quarter\n",
    "\n",
    "# Reordenar columnas\n",
    "calendar_df = calendar_df[['id_calendario', 'fecha', 'hora', 'dia', 'mes', 'año', 'dia_semana', 'nombre_mes', 'trimestre']]\n",
    "\n",
    "# Exportar a CSV\n",
    "calendar_df.to_csv('calendar.csv', index=False)\n",
    "\n",
    "print(\"Tabla de calendario generada y exportada a 'calendar.csv'\")\n"
   ]
  }
 ],
 "metadata": {
  "kernelspec": {
   "display_name": "Python 3",
   "language": "python",
   "name": "python3"
  },
  "language_info": {
   "codemirror_mode": {
    "name": "ipython",
    "version": 3
   },
   "file_extension": ".py",
   "mimetype": "text/x-python",
   "name": "python",
   "nbconvert_exporter": "python",
   "pygments_lexer": "ipython3",
   "version": "3.10.2"
  }
 },
 "nbformat": 4,
 "nbformat_minor": 2
}
