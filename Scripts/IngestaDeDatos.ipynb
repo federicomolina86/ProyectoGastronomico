{
 "cells": [
  {
   "cell_type": "code",
   "execution_count": 2,
   "metadata": {},
   "outputs": [],
   "source": [
    "import pandas as pd\n",
    "import os"
   ]
  },
  {
   "cell_type": "code",
   "execution_count": null,
   "metadata": {},
   "outputs": [],
   "source": [
    "# Directorio que contiene los archivos CSV diarios\n",
    "directory = \"D:\\Documents\\PC\\Fede\\Proyectos\\Restaurante\\CSV Ventas\\Ingestar\"  # Reemplaza con la ruta a tu carpeta\n",
    "\n",
    "# Archivo CSV general\n",
    "general_csv = os.path.join(directory, \"Totales.csv\")\n",
    "\n",
    "# Nombres de las columnas\n",
    "column_names = [\"id_venta\", \"nro_transaccion\", \"id_producto\", \"fecha_venta\", \"hora_venta\", \"precio\", \"cantidad\", \"id_empleado\", \"id_mesa\"]\n",
    "\n",
    "# Leer o crear el archivo CSV general\n",
    "if os.path.exists(general_csv):\n",
    "    ventas_generales = pd.read_csv(general_csv)\n",
    "else:\n",
    "    # Crear un DataFrame con las columnas especificadas si no existe\n",
    "    ventas_generales = pd.DataFrame(columns=column_names)\n",
    "    ventas_generales.to_csv(general_csv, index=False)\n",
    "\n",
    "# Procesar cada archivo CSV en el directorio\n",
    "for filename in os.listdir(directory):\n",
    "    if filename.endswith(\".csv\") and filename.startswith(\"Ventas\"):\n",
    "        file_path = os.path.join(directory, filename)\n",
    "        \n",
    "        # Leer el archivo CSV diario\n",
    "        ventas_diarias = pd.read_csv(file_path)\n",
    "        \n",
    "        # Concatenar las ventas diarias al DataFrame general\n",
    "        ventas_generales = pd.concat([ventas_generales, ventas_diarias], ignore_index=True)\n",
    "        \n",
    "        # Extraer la fecha del nombre del archivo\n",
    "        fecha = filename.split('s')[1].split('.')[0]\n",
    "        \n",
    "        # Exportar el archivo CSV general con el nuevo nombre\n",
    "        export_file = f\"ventas hasta {fecha}.csv\"\n",
    "        ventas_generales.to_csv(export_file, index=False)\n",
    "        print(f\"Archivo exportado: {export_file}\")\n",
    "\n",
    "# Guardar el archivo CSV general actualizado\n",
    "ventas_generales.to_csv(general_csv, index=False)\n",
    "print(f\"Archivo general actualizado: {general_csv}\")\n"
   ]
  }
 ],
 "metadata": {
  "kernelspec": {
   "display_name": "Python 3",
   "language": "python",
   "name": "python3"
  },
  "language_info": {
   "codemirror_mode": {
    "name": "ipython",
    "version": 3
   },
   "file_extension": ".py",
   "mimetype": "text/x-python",
   "name": "python",
   "nbconvert_exporter": "python",
   "pygments_lexer": "ipython3",
   "version": "3.10.2"
  }
 },
 "nbformat": 4,
 "nbformat_minor": 2
}
